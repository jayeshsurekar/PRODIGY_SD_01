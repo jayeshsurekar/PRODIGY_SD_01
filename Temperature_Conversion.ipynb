{
  "nbformat": 4,
  "nbformat_minor": 0,
  "metadata": {
    "colab": {
      "provenance": []
    },
    "kernelspec": {
      "name": "python3",
      "display_name": "Python 3"
    },
    "language_info": {
      "name": "python"
    }
  },
  "cells": [
    {
      "cell_type": "code",
      "execution_count": 1,
      "metadata": {
        "colab": {
          "base_uri": "https://localhost:8080/"
        },
        "id": "59k2SX6Iadtj",
        "outputId": "28dc90f2-9922-488a-9942-71b19c9df5d7"
      },
      "outputs": [
        {
          "output_type": "stream",
          "name": "stdout",
          "text": [
            "Temperature value in degree Celsius: 100\n",
            "The 100.00 degree Celsius is equal to: 212.00 Fahrenheit\n",
            "----OR----\n",
            "Temperature value in degree Celsius: 102\n",
            "The 102.00 degree Celsius is equal to: 215.60 Fahrenheit\n"
          ]
        }
      ],
      "source": [
        "celsius_1 = float(input(\"Temperature value in degree Celsius: \" ))\n",
        "\n",
        "# For Converting the temperature to degree Fahrenheit by using the above\n",
        "# given formula\n",
        "Fahrenheit_1 = (celsius_1 * 1.8) + 32\n",
        "\n",
        "# print the result\n",
        "print('The %.2f degree Celsius is equal to: %.2f Fahrenheit'\n",
        "      %(celsius_1, Fahrenheit_1))\n",
        "\n",
        "print(\"----OR----\")\n",
        "celsius_2 = float (input(\"Temperature value in degree Celsius: \" ))\n",
        "Fahrenheit_2 = (celsius_2 * 9/5) + 32\n",
        "\n",
        "# print the result\n",
        "print ('The %.2f degree Celsius is equal to: %.2f Fahrenheit'\n",
        "      %(celsius_2, Fahrenheit_2))"
      ]
    }
  ]
}