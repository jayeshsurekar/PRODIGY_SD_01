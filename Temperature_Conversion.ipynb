{
  "nbformat": 4,
  "nbformat_minor": 0,
  "metadata": {
    "colab": {
      "provenance": [],
      "authorship_tag": "ABX9TyPyrc9BdR50OxiwyOnu3naS",
      "include_colab_link": true
    },
    "kernelspec": {
      "name": "python3",
      "display_name": "Python 3"
    },
    "language_info": {
      "name": "python"
    }
  },
  "cells": [
    {
      "cell_type": "markdown",
      "metadata": {
        "id": "view-in-github",
        "colab_type": "text"
      },
      "source": [
        "<a href=\"https://colab.research.google.com/github/jayeshsurekar/PRODIGY_SD_01/blob/main/Temperature_Conversion.ipynb\" target=\"_parent\"><img src=\"https://colab.research.google.com/assets/colab-badge.svg\" alt=\"Open In Colab\"/></a>"
      ]
    },
    {
      "cell_type": "code",
      "execution_count": 1,
      "metadata": {
        "colab": {
          "base_uri": "https://localhost:8080/"
        },
        "id": "Db78c71ZE-q4",
        "outputId": "69936a48-cd86-4ba2-bee7-d895904e50e5"
      },
      "outputs": [
        {
          "output_type": "stream",
          "name": "stdout",
          "text": [
            "Temperature Conversion Program\n",
            "1. Celsius to Fahrenheit\n",
            "2. Fahrenheit to Celsius\n",
            "3. Celsius to Kelvin\n",
            "4. Kelvin to Celsius\n",
            "5. Fahrenheit to Kelvin\n",
            "6. Kelvin to Fahrenheit\n",
            "7. Exit\n",
            "Enter your choice: 2\n",
            "Enter temperature in Fahrenheit: 25\n",
            "25.0°F is -3.888888888888889°C\n",
            "Temperature Conversion Program\n",
            "1. Celsius to Fahrenheit\n",
            "2. Fahrenheit to Celsius\n",
            "3. Celsius to Kelvin\n",
            "4. Kelvin to Celsius\n",
            "5. Fahrenheit to Kelvin\n",
            "6. Kelvin to Fahrenheit\n",
            "7. Exit\n",
            "Enter your choice: 7\n",
            "Exiting the program.\n"
          ]
        }
      ],
      "source": [
        "def celsius_to_fahrenheit(celsius):\n",
        "    return (celsius * 9/5) + 32\n",
        "\n",
        "def fahrenheit_to_celsius(fahrenheit):\n",
        "    return (fahrenheit - 32) * 5/9\n",
        "\n",
        "def celsius_to_kelvin(celsius):\n",
        "    return celsius + 273.15\n",
        "\n",
        "def kelvin_to_celsius(kelvin):\n",
        "    return kelvin - 273.15\n",
        "\n",
        "def fahrenheit_to_kelvin(fahrenheit):\n",
        "    return celsius_to_kelvin(fahrenheit_to_celsius(fahrenheit))\n",
        "\n",
        "def kelvin_to_fahrenheit(kelvin):\n",
        "    return celsius_to_fahrenheit(kelvin_to_celsius(kelvin))\n",
        "\n",
        "def display_menu():\n",
        "    print(\"Temperature Conversion Program\")\n",
        "    print(\"1. Celsius to Fahrenheit\")\n",
        "    print(\"2. Fahrenheit to Celsius\")\n",
        "    print(\"3. Celsius to Kelvin\")\n",
        "    print(\"4. Kelvin to Celsius\")\n",
        "    print(\"5. Fahrenheit to Kelvin\")\n",
        "    print(\"6. Kelvin to Fahrenheit\")\n",
        "    print(\"7. Exit\")\n",
        "\n",
        "def main():\n",
        "    while True:\n",
        "        display_menu()\n",
        "        choice = input(\"Enter your choice: \")\n",
        "\n",
        "        if choice == '1':\n",
        "            celsius = float(input(\"Enter temperature in Celsius: \"))\n",
        "            print(f\"{celsius}°C is {celsius_to_fahrenheit(celsius)}°F\")\n",
        "\n",
        "        elif choice == '2':\n",
        "            fahrenheit = float(input(\"Enter temperature in Fahrenheit: \"))\n",
        "            print(f\"{fahrenheit}°F is {fahrenheit_to_celsius(fahrenheit)}°C\")\n",
        "\n",
        "        elif choice == '3':\n",
        "            celsius = float(input(\"Enter temperature in Celsius: \"))\n",
        "            print(f\"{celsius}°C is {celsius_to_kelvin(celsius)}K\")\n",
        "\n",
        "        elif choice == '4':\n",
        "            kelvin = float(input(\"Enter temperature in Kelvin: \"))\n",
        "            print(f\"{kelvin}K is {kelvin_to_celsius(kelvin)}°C\")\n",
        "\n",
        "        elif choice == '5':\n",
        "            fahrenheit = float(input(\"Enter temperature in Fahrenheit: \"))\n",
        "            print(f\"{fahrenheit}°F is {fahrenheit_to_kelvin(fahrenheit)}K\")\n",
        "\n",
        "        elif choice == '6':\n",
        "            kelvin = float(input(\"Enter temperature in Kelvin: \"))\n",
        "            print(f\"{kelvin}K is {kelvin_to_fahrenheit(kelvin)}°F\")\n",
        "\n",
        "        elif choice == '7':\n",
        "            print(\"Exiting the program.\")\n",
        "            break\n",
        "\n",
        "        else:\n",
        "            print(\"Invalid choice. Please try again.\")\n",
        "\n",
        "if __name__ == \"__main__\":\n",
        "    main()\n"
      ]
    }
  ]
}